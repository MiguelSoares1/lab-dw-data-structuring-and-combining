{
 "cells": [
  {
   "cell_type": "markdown",
   "id": "25d7736c-ba17-4aff-b6bb-66eba20fbf4e",
   "metadata": {
    "id": "25d7736c-ba17-4aff-b6bb-66eba20fbf4e"
   },
   "source": [
    "# Lab | Data Structuring and Combining Data"
   ]
  },
  {
   "cell_type": "markdown",
   "id": "a2cdfc70-44c8-478c-81e7-2bc43fdf4986",
   "metadata": {
    "id": "a2cdfc70-44c8-478c-81e7-2bc43fdf4986"
   },
   "source": [
    "## Challenge 1: Combining & Cleaning Data\n",
    "\n",
    "In this challenge, we will be working with the customer data from an insurance company, as we did in the two previous labs. The data can be found here:\n",
    "- https://raw.githubusercontent.com/data-bootcamp-v4/data/main/file1.csv\n",
    "\n",
    "But this time, we got new data, which can be found in the following 2 CSV files located at the links below.\n",
    "\n",
    "- https://raw.githubusercontent.com/data-bootcamp-v4/data/main/file2.csv\n",
    "- https://raw.githubusercontent.com/data-bootcamp-v4/data/main/file3.csv\n",
    "\n",
    "Note that you'll need to clean and format the new data.\n",
    "\n",
    "Observation:\n",
    "- One option is to first combine the three datasets and then apply the cleaning function to the new combined dataset\n",
    "- Another option would be to read the clean file you saved in the previous lab, and just clean the two new files and concatenate the three clean datasets"
   ]
  },
  {
   "cell_type": "code",
   "execution_count": 4,
   "id": "492d06e3-92c7-4105-ac72-536db98d3244",
   "metadata": {
    "id": "492d06e3-92c7-4105-ac72-536db98d3244"
   },
   "outputs": [],
   "source": [
    "# Your code goes here\n",
    "# Your code here\n",
    "import pandas as pd\n",
    "\n",
    "original_file = r\"C:\\Users\\toloz\\Ironhack\\Week 2\\Project\\my_data.csv\"\n",
    "# Load Titanic dataset from an online source\n",
    "url_fil1_ext1 = r\"https://raw.githubusercontent.com/data-bootcamp-v4/data/main/file1.csv\"\n",
    "url_fil1_ext2 = r\"https://raw.githubusercontent.com/data-bootcamp-v4/data/main/file3.csv\"\n",
    "df_file1_ext = pd.read_csv(url_fil1_ext1) \n",
    "df_file2_ext = pd.read_csv(url_fil1_ext2) \n",
    "df_original = pd.read_csv(original_file)"
   ]
  },
  {
   "cell_type": "code",
   "execution_count": 23,
   "id": "dd50f663-62f0-48b3-9f9e-f6224fa22318",
   "metadata": {},
   "outputs": [
    {
     "data": {
      "text/html": [
       "<div>\n",
       "<style scoped>\n",
       "    .dataframe tbody tr th:only-of-type {\n",
       "        vertical-align: middle;\n",
       "    }\n",
       "\n",
       "    .dataframe tbody tr th {\n",
       "        vertical-align: top;\n",
       "    }\n",
       "\n",
       "    .dataframe thead th {\n",
       "        text-align: right;\n",
       "    }\n",
       "</style>\n",
       "<table border=\"1\" class=\"dataframe\">\n",
       "  <thead>\n",
       "    <tr style=\"text-align: right;\">\n",
       "      <th></th>\n",
       "      <th>customer</th>\n",
       "      <th>st</th>\n",
       "      <th>gender</th>\n",
       "      <th>education</th>\n",
       "      <th>customer_lifetime_value</th>\n",
       "      <th>income</th>\n",
       "      <th>monthly_premium_auto</th>\n",
       "      <th>number_of_open_complaints</th>\n",
       "      <th>policy_type</th>\n",
       "      <th>vehicle_class</th>\n",
       "      <th>total_claim_amount</th>\n",
       "    </tr>\n",
       "  </thead>\n",
       "  <tbody>\n",
       "    <tr>\n",
       "      <th>0</th>\n",
       "      <td>RB50392</td>\n",
       "      <td>Washington</td>\n",
       "      <td>NaN</td>\n",
       "      <td>Master</td>\n",
       "      <td>NaN</td>\n",
       "      <td>0.0</td>\n",
       "      <td>1000.0</td>\n",
       "      <td>1/0/00</td>\n",
       "      <td>Personal Auto</td>\n",
       "      <td>Four-Door Car</td>\n",
       "      <td>2.704934</td>\n",
       "    </tr>\n",
       "    <tr>\n",
       "      <th>1</th>\n",
       "      <td>QZ44356</td>\n",
       "      <td>Arizona</td>\n",
       "      <td>F</td>\n",
       "      <td>Bachelor</td>\n",
       "      <td>697953.59%</td>\n",
       "      <td>0.0</td>\n",
       "      <td>94.0</td>\n",
       "      <td>1/0/00</td>\n",
       "      <td>Personal Auto</td>\n",
       "      <td>Four-Door Car</td>\n",
       "      <td>1131.464935</td>\n",
       "    </tr>\n",
       "    <tr>\n",
       "      <th>2</th>\n",
       "      <td>AI49188</td>\n",
       "      <td>Nevada</td>\n",
       "      <td>F</td>\n",
       "      <td>Bachelor</td>\n",
       "      <td>1288743.17%</td>\n",
       "      <td>48767.0</td>\n",
       "      <td>108.0</td>\n",
       "      <td>1/0/00</td>\n",
       "      <td>Personal Auto</td>\n",
       "      <td>Two-Door Car</td>\n",
       "      <td>566.472247</td>\n",
       "    </tr>\n",
       "    <tr>\n",
       "      <th>3</th>\n",
       "      <td>WW63253</td>\n",
       "      <td>California</td>\n",
       "      <td>M</td>\n",
       "      <td>Bachelor</td>\n",
       "      <td>764586.18%</td>\n",
       "      <td>0.0</td>\n",
       "      <td>106.0</td>\n",
       "      <td>1/0/00</td>\n",
       "      <td>Corporate Auto</td>\n",
       "      <td>SUV</td>\n",
       "      <td>529.881344</td>\n",
       "    </tr>\n",
       "    <tr>\n",
       "      <th>4</th>\n",
       "      <td>GA49547</td>\n",
       "      <td>Washington</td>\n",
       "      <td>M</td>\n",
       "      <td>High School or Below</td>\n",
       "      <td>536307.65%</td>\n",
       "      <td>36357.0</td>\n",
       "      <td>68.0</td>\n",
       "      <td>1/0/00</td>\n",
       "      <td>Personal Auto</td>\n",
       "      <td>Four-Door Car</td>\n",
       "      <td>17.269323</td>\n",
       "    </tr>\n",
       "  </tbody>\n",
       "</table>\n",
       "</div>"
      ],
      "text/plain": [
       "  customer          st gender             education customer_lifetime_value  \\\n",
       "0  RB50392  Washington    NaN                Master                     NaN   \n",
       "1  QZ44356     Arizona      F              Bachelor              697953.59%   \n",
       "2  AI49188      Nevada      F              Bachelor             1288743.17%   \n",
       "3  WW63253  California      M              Bachelor              764586.18%   \n",
       "4  GA49547  Washington      M  High School or Below              536307.65%   \n",
       "\n",
       "    income  monthly_premium_auto number_of_open_complaints     policy_type  \\\n",
       "0      0.0                1000.0                    1/0/00   Personal Auto   \n",
       "1      0.0                  94.0                    1/0/00   Personal Auto   \n",
       "2  48767.0                 108.0                    1/0/00   Personal Auto   \n",
       "3      0.0                 106.0                    1/0/00  Corporate Auto   \n",
       "4  36357.0                  68.0                    1/0/00   Personal Auto   \n",
       "\n",
       "   vehicle_class  total_claim_amount  \n",
       "0  Four-Door Car            2.704934  \n",
       "1  Four-Door Car         1131.464935  \n",
       "2   Two-Door Car          566.472247  \n",
       "3            SUV          529.881344  \n",
       "4  Four-Door Car           17.269323  "
      ]
     },
     "execution_count": 23,
     "metadata": {},
     "output_type": "execute_result"
    }
   ],
   "source": [
    "df_file1_ext.head()"
   ]
  },
  {
   "cell_type": "code",
   "execution_count": 8,
   "id": "ba249b4c-b0bb-467d-837c-8d3c3b58eaee",
   "metadata": {},
   "outputs": [
    {
     "data": {
      "text/html": [
       "<div>\n",
       "<style scoped>\n",
       "    .dataframe tbody tr th:only-of-type {\n",
       "        vertical-align: middle;\n",
       "    }\n",
       "\n",
       "    .dataframe tbody tr th {\n",
       "        vertical-align: top;\n",
       "    }\n",
       "\n",
       "    .dataframe thead th {\n",
       "        text-align: right;\n",
       "    }\n",
       "</style>\n",
       "<table border=\"1\" class=\"dataframe\">\n",
       "  <thead>\n",
       "    <tr style=\"text-align: right;\">\n",
       "      <th></th>\n",
       "      <th>Customer</th>\n",
       "      <th>State</th>\n",
       "      <th>Customer Lifetime Value</th>\n",
       "      <th>Education</th>\n",
       "      <th>Gender</th>\n",
       "      <th>Income</th>\n",
       "      <th>Monthly Premium Auto</th>\n",
       "      <th>Number of Open Complaints</th>\n",
       "      <th>Policy Type</th>\n",
       "      <th>Total Claim Amount</th>\n",
       "      <th>Vehicle Class</th>\n",
       "    </tr>\n",
       "  </thead>\n",
       "  <tbody>\n",
       "    <tr>\n",
       "      <th>0</th>\n",
       "      <td>SA25987</td>\n",
       "      <td>Washington</td>\n",
       "      <td>3479.137523</td>\n",
       "      <td>High School or Below</td>\n",
       "      <td>M</td>\n",
       "      <td>0</td>\n",
       "      <td>104</td>\n",
       "      <td>0</td>\n",
       "      <td>Personal Auto</td>\n",
       "      <td>499.200000</td>\n",
       "      <td>Two-Door Car</td>\n",
       "    </tr>\n",
       "    <tr>\n",
       "      <th>1</th>\n",
       "      <td>TB86706</td>\n",
       "      <td>Arizona</td>\n",
       "      <td>2502.637401</td>\n",
       "      <td>Master</td>\n",
       "      <td>M</td>\n",
       "      <td>0</td>\n",
       "      <td>66</td>\n",
       "      <td>0</td>\n",
       "      <td>Personal Auto</td>\n",
       "      <td>3.468912</td>\n",
       "      <td>Two-Door Car</td>\n",
       "    </tr>\n",
       "    <tr>\n",
       "      <th>2</th>\n",
       "      <td>ZL73902</td>\n",
       "      <td>Nevada</td>\n",
       "      <td>3265.156348</td>\n",
       "      <td>Bachelor</td>\n",
       "      <td>F</td>\n",
       "      <td>25820</td>\n",
       "      <td>82</td>\n",
       "      <td>0</td>\n",
       "      <td>Personal Auto</td>\n",
       "      <td>393.600000</td>\n",
       "      <td>Four-Door Car</td>\n",
       "    </tr>\n",
       "    <tr>\n",
       "      <th>3</th>\n",
       "      <td>KX23516</td>\n",
       "      <td>California</td>\n",
       "      <td>4455.843406</td>\n",
       "      <td>High School or Below</td>\n",
       "      <td>F</td>\n",
       "      <td>0</td>\n",
       "      <td>121</td>\n",
       "      <td>0</td>\n",
       "      <td>Personal Auto</td>\n",
       "      <td>699.615192</td>\n",
       "      <td>SUV</td>\n",
       "    </tr>\n",
       "    <tr>\n",
       "      <th>4</th>\n",
       "      <td>FN77294</td>\n",
       "      <td>California</td>\n",
       "      <td>7704.958480</td>\n",
       "      <td>High School or Below</td>\n",
       "      <td>M</td>\n",
       "      <td>30366</td>\n",
       "      <td>101</td>\n",
       "      <td>2</td>\n",
       "      <td>Personal Auto</td>\n",
       "      <td>484.800000</td>\n",
       "      <td>SUV</td>\n",
       "    </tr>\n",
       "  </tbody>\n",
       "</table>\n",
       "</div>"
      ],
      "text/plain": [
       "  Customer       State  Customer Lifetime Value             Education Gender  \\\n",
       "0  SA25987  Washington              3479.137523  High School or Below      M   \n",
       "1  TB86706     Arizona              2502.637401                Master      M   \n",
       "2  ZL73902      Nevada              3265.156348              Bachelor      F   \n",
       "3  KX23516  California              4455.843406  High School or Below      F   \n",
       "4  FN77294  California              7704.958480  High School or Below      M   \n",
       "\n",
       "   Income  Monthly Premium Auto  Number of Open Complaints    Policy Type  \\\n",
       "0       0                   104                          0  Personal Auto   \n",
       "1       0                    66                          0  Personal Auto   \n",
       "2   25820                    82                          0  Personal Auto   \n",
       "3       0                   121                          0  Personal Auto   \n",
       "4   30366                   101                          2  Personal Auto   \n",
       "\n",
       "   Total Claim Amount  Vehicle Class  \n",
       "0          499.200000   Two-Door Car  \n",
       "1            3.468912   Two-Door Car  \n",
       "2          393.600000  Four-Door Car  \n",
       "3          699.615192            SUV  \n",
       "4          484.800000            SUV  "
      ]
     },
     "execution_count": 8,
     "metadata": {},
     "output_type": "execute_result"
    }
   ],
   "source": [
    "df_file2_ext.head()"
   ]
  },
  {
   "cell_type": "markdown",
   "id": "c1cd4c1e-e532-4e20-b93e-6bacb459671e",
   "metadata": {},
   "source": [
    "### Cleaning for df_file1_ext same steps from the original data set "
   ]
  },
  {
   "cell_type": "code",
   "execution_count": 18,
   "id": "5ab70308-04b7-4c03-acac-b815c646e267",
   "metadata": {},
   "outputs": [],
   "source": [
    "df_file1_ext.rename(columns={ col: col.lower().replace(\" \", \"_\") for col in df_file1_ext.columns }, inplace = True)"
   ]
  },
  {
   "cell_type": "code",
   "execution_count": 25,
   "id": "baea6758-544a-4721-ab38-ad53a463058a",
   "metadata": {},
   "outputs": [],
   "source": [
    "# st could be replaced for state\n",
    "df_file1_ext = df_file1_ext.rename(columns={\"st\": \"state\"})"
   ]
  },
  {
   "cell_type": "code",
   "execution_count": 32,
   "id": "4ec7a679-3726-45f1-a12f-6b9d89fbc268",
   "metadata": {},
   "outputs": [],
   "source": [
    "# Use replace to standardize\n",
    "df_file1_ext[\"gender\"]  = df_file1_ext[\"gender\"].replace({\"Femal\":\"F\",\"Male\":\"M\",\"female\":\"F\"}) "
   ]
  },
  {
   "cell_type": "code",
   "execution_count": 37,
   "id": "d10300af-64ef-4340-81a3-d1f41de200f9",
   "metadata": {},
   "outputs": [],
   "source": [
    "df_file1_ext[\"state\"] = df_file1_ext[\"state\"].replace({\"AZ\":\"Arizona\",\"WA\":\"Washington\",\"Cali\":\"California\"})"
   ]
  },
  {
   "cell_type": "code",
   "execution_count": 45,
   "id": "97c906cb-1549-48dd-8014-a684e80e88d6",
   "metadata": {},
   "outputs": [],
   "source": [
    "df_file1_ext[\"education\"]  = df_file1_ext[\"education\"].replace({\"Bachelors\":\"Bachelor\"})"
   ]
  },
  {
   "cell_type": "code",
   "execution_count": 48,
   "id": "294324b7-9d23-455b-b221-0967fef4815e",
   "metadata": {},
   "outputs": [],
   "source": [
    "df_file1_ext[\"customer_lifetime_value\"] = df_file1_ext[\"customer_lifetime_value\"].apply(lambda x: x.replace(\"%\",\" \").strip() if isinstance(x,str) else x )\n",
    "df_file1_ext['customer_lifetime_value'] = pd.to_numeric(df_file1_ext['customer_lifetime_value'], errors='coerce')"
   ]
  },
  {
   "cell_type": "code",
   "execution_count": 51,
   "id": "1bae7fbc-c2e0-4da7-89c0-b0b6cab10f05",
   "metadata": {},
   "outputs": [],
   "source": [
    "df_file1_ext[\"vehicle_class\"] = df_file1_ext[\"vehicle_class\"].replace({\"Sports Car\":\"Luxury\",\"Luxury SUV\":\"Luxury\",\"Luxury Car\":\"Luxury\"})"
   ]
  },
  {
   "cell_type": "code",
   "execution_count": 71,
   "id": "7e77cfc3-7a6a-4138-91e8-e0ed791261fc",
   "metadata": {},
   "outputs": [],
   "source": [
    "\n",
    "df_file1_ext[\"number_of_open_complaints\"] = df_file1_ext[\"number_of_open_complaints\"].apply(lambda x: x.split(\"/\")[1] if isinstance(x, str) else x)\n",
    "df_file1_ext[\"number_of_open_complaints\"] = df_file1_ext[\"number_of_open_complaints\"].astype(int)\n",
    "# Convert all applicable numeric columns to int\n",
    "num_cols = df_file1_ext.select_dtypes(include=['float64']).columns\n",
    "for col in num_cols:\n",
    "    df_file1_ext[col] = df_file1_ext[col].astype(int)"
   ]
  },
  {
   "cell_type": "code",
   "execution_count": 58,
   "id": "0e89760a-a5cd-4fea-b0b9-f6f6bd894a42",
   "metadata": {},
   "outputs": [],
   "source": [
    "# lets delete all rows with only missing values \n",
    "df_file1_ext.dropna(how=\"all\",inplace = True)"
   ]
  },
  {
   "cell_type": "code",
   "execution_count": 64,
   "id": "cb10c223-83f7-4b02-bb0a-0a413084836c",
   "metadata": {},
   "outputs": [],
   "source": [
    "df_file1_ext[\"customer_lifetime_value\"] = df_file1_ext[\"customer_lifetime_value\"].fillna(df_file1_ext[\"customer_lifetime_value\"].mean())"
   ]
  },
  {
   "cell_type": "code",
   "execution_count": 69,
   "id": "0c75090a-bc8e-4f45-88b4-2b86754c817b",
   "metadata": {},
   "outputs": [
    {
     "data": {
      "text/plain": [
       "0"
      ]
     },
     "execution_count": 69,
     "metadata": {},
     "output_type": "execute_result"
    }
   ],
   "source": [
    "df_file1_ext.duplicated().sum()"
   ]
  },
  {
   "cell_type": "markdown",
   "id": "fa4a02a8-1d2e-4a96-b2af-ba755482fb4b",
   "metadata": {},
   "source": [
    "### Cleaning for df_file2_ext same steps from the original data set"
   ]
  },
  {
   "cell_type": "code",
   "execution_count": 75,
   "id": "dc0ddf15-fb67-4c2f-82d0-cb41849bfdc4",
   "metadata": {},
   "outputs": [],
   "source": [
    "df_file2_ext.rename(columns={ col: col.lower().replace(\" \", \"_\") for col in df_file2_ext.columns }, inplace = True)"
   ]
  },
  {
   "cell_type": "code",
   "execution_count": 80,
   "id": "c168543b-b4bc-41a4-86fa-67cd890dac79",
   "metadata": {},
   "outputs": [],
   "source": [
    "df_file2_ext[\"gender\"]  = df_file2_ext[\"gender\"].replace({\"Femal\":\"F\",\"Male\":\"M\",\"female\":\"F\"}) "
   ]
  },
  {
   "cell_type": "code",
   "execution_count": 86,
   "id": "db785fac-4ced-4ec3-b984-828a9837bf30",
   "metadata": {},
   "outputs": [],
   "source": [
    "df_file2_ext[\"state\"] = df_file2_ext[\"state\"].replace({\"AZ\":\"Arizona\",\"WA\":\"Washington\",\"Cali\":\"California\"})"
   ]
  },
  {
   "cell_type": "code",
   "execution_count": 88,
   "id": "2838a987-82ac-4975-ae07-c243f275de98",
   "metadata": {},
   "outputs": [],
   "source": [
    "df_file2_ext[\"education\"]  = df_file2_ext[\"education\"].replace({\"Bachelors\":\"Bachelor\"})"
   ]
  },
  {
   "cell_type": "code",
   "execution_count": 92,
   "id": "73aa03d0-10ea-4d63-a79c-ae9f5b6439ef",
   "metadata": {},
   "outputs": [],
   "source": [
    "df_file2_ext[\"customer_lifetime_value\"] = df_file2_ext[\"customer_lifetime_value\"].apply(lambda x: x.replace(\"%\",\" \").strip() if isinstance(x,str) else x )\n",
    "df_file2_ext['customer_lifetime_value'] = pd.to_numeric(df_file2_ext['customer_lifetime_value'], errors='coerce')"
   ]
  },
  {
   "cell_type": "code",
   "execution_count": 94,
   "id": "6edf64e0-733c-4d25-bcc9-5e09fc662b00",
   "metadata": {},
   "outputs": [],
   "source": [
    "df_file2_ext[\"vehicle_class\"] = df_file2_ext[\"vehicle_class\"].replace({\"Sports Car\":\"Luxury\",\"Luxury SUV\":\"Luxury\",\"Luxury Car\":\"Luxury\"})"
   ]
  },
  {
   "cell_type": "code",
   "execution_count": 96,
   "id": "84e1d710-984c-49e6-bf3e-da18acde26d9",
   "metadata": {},
   "outputs": [],
   "source": [
    "\n",
    "df_file2_ext[\"number_of_open_complaints\"] = df_file2_ext[\"number_of_open_complaints\"].apply(lambda x: x.split(\"/\")[1] if isinstance(x, str) else x)\n",
    "df_file2_ext[\"number_of_open_complaints\"] = df_file2_ext[\"number_of_open_complaints\"].astype(int)\n",
    "# Convert all applicable numeric columns to int\n",
    "num_cols = df_file2_ext.select_dtypes(include=['float64']).columns\n",
    "for col in num_cols:\n",
    "    df_file2_ext[col] = df_file2_ext[col].astype(int)"
   ]
  },
  {
   "cell_type": "code",
   "execution_count": 98,
   "id": "e22a3dcd-56c6-40a3-9c01-9cbd7a30d0d1",
   "metadata": {},
   "outputs": [],
   "source": [
    "# lets delete all rows with only missing values \n",
    "df_file2_ext.dropna(how=\"all\",inplace = True)"
   ]
  },
  {
   "cell_type": "code",
   "execution_count": 100,
   "id": "718d6713-5ebc-4f03-8bef-aac293d0f26c",
   "metadata": {},
   "outputs": [],
   "source": [
    "df_file2_ext[\"customer_lifetime_value\"] = df_file2_ext[\"customer_lifetime_value\"].fillna(df_file2_ext[\"customer_lifetime_value\"].mean())"
   ]
  },
  {
   "cell_type": "code",
   "execution_count": 102,
   "id": "f4eb2c34-6723-4463-a66e-02dea6b0f821",
   "metadata": {},
   "outputs": [
    {
     "data": {
      "text/plain": [
       "0"
      ]
     },
     "execution_count": 102,
     "metadata": {},
     "output_type": "execute_result"
    }
   ],
   "source": [
    "df_file2_ext.duplicated().sum()"
   ]
  },
  {
   "cell_type": "markdown",
   "id": "1a4ce76a-48aa-48ec-b915-4000f981e086",
   "metadata": {},
   "source": [
    "### Concat the data"
   ]
  },
  {
   "cell_type": "code",
   "execution_count": 123,
   "id": "6b0dce32-b3c1-4b9a-b05f-411bc2746977",
   "metadata": {},
   "outputs": [],
   "source": [
    "Concat_data = pd.concat([df_original, df_file2_ext,df_file1_ext], axis=0).reset_index(drop=True)"
   ]
  },
  {
   "cell_type": "code",
   "execution_count": 127,
   "id": "789ecbd5-f8bb-4bc7-a5b3-1a65c5e95b54",
   "metadata": {},
   "outputs": [
    {
     "data": {
      "text/html": [
       "<div>\n",
       "<style scoped>\n",
       "    .dataframe tbody tr th:only-of-type {\n",
       "        vertical-align: middle;\n",
       "    }\n",
       "\n",
       "    .dataframe tbody tr th {\n",
       "        vertical-align: top;\n",
       "    }\n",
       "\n",
       "    .dataframe thead th {\n",
       "        text-align: right;\n",
       "    }\n",
       "</style>\n",
       "<table border=\"1\" class=\"dataframe\">\n",
       "  <thead>\n",
       "    <tr style=\"text-align: right;\">\n",
       "      <th></th>\n",
       "      <th>customer</th>\n",
       "      <th>state</th>\n",
       "      <th>gender</th>\n",
       "      <th>education</th>\n",
       "      <th>customer_lifetime_value</th>\n",
       "      <th>income</th>\n",
       "      <th>monthly_premium_auto</th>\n",
       "      <th>number_of_open_complaints</th>\n",
       "      <th>policy_type</th>\n",
       "      <th>vehicle_class</th>\n",
       "      <th>total_claim_amount</th>\n",
       "    </tr>\n",
       "  </thead>\n",
       "  <tbody>\n",
       "    <tr>\n",
       "      <th>0</th>\n",
       "      <td>RB50392</td>\n",
       "      <td>Washington</td>\n",
       "      <td>NaN</td>\n",
       "      <td>Master</td>\n",
       "      <td>793690</td>\n",
       "      <td>0</td>\n",
       "      <td>1000</td>\n",
       "      <td>0</td>\n",
       "      <td>Personal Auto</td>\n",
       "      <td>Four-Door Car</td>\n",
       "      <td>2</td>\n",
       "    </tr>\n",
       "    <tr>\n",
       "      <th>1</th>\n",
       "      <td>QZ44356</td>\n",
       "      <td>Arizona</td>\n",
       "      <td>F</td>\n",
       "      <td>Bachelor</td>\n",
       "      <td>697953</td>\n",
       "      <td>0</td>\n",
       "      <td>94</td>\n",
       "      <td>0</td>\n",
       "      <td>Personal Auto</td>\n",
       "      <td>Four-Door Car</td>\n",
       "      <td>1131</td>\n",
       "    </tr>\n",
       "    <tr>\n",
       "      <th>2</th>\n",
       "      <td>AI49188</td>\n",
       "      <td>Nevada</td>\n",
       "      <td>F</td>\n",
       "      <td>Bachelor</td>\n",
       "      <td>1288743</td>\n",
       "      <td>48767</td>\n",
       "      <td>108</td>\n",
       "      <td>0</td>\n",
       "      <td>Personal Auto</td>\n",
       "      <td>Two-Door Car</td>\n",
       "      <td>566</td>\n",
       "    </tr>\n",
       "    <tr>\n",
       "      <th>3</th>\n",
       "      <td>WW63253</td>\n",
       "      <td>California</td>\n",
       "      <td>M</td>\n",
       "      <td>Bachelor</td>\n",
       "      <td>764586</td>\n",
       "      <td>0</td>\n",
       "      <td>106</td>\n",
       "      <td>0</td>\n",
       "      <td>Corporate Auto</td>\n",
       "      <td>SUV</td>\n",
       "      <td>529</td>\n",
       "    </tr>\n",
       "    <tr>\n",
       "      <th>4</th>\n",
       "      <td>GA49547</td>\n",
       "      <td>Washington</td>\n",
       "      <td>M</td>\n",
       "      <td>High School or Below</td>\n",
       "      <td>536307</td>\n",
       "      <td>36357</td>\n",
       "      <td>68</td>\n",
       "      <td>0</td>\n",
       "      <td>Personal Auto</td>\n",
       "      <td>Four-Door Car</td>\n",
       "      <td>17</td>\n",
       "    </tr>\n",
       "  </tbody>\n",
       "</table>\n",
       "</div>"
      ],
      "text/plain": [
       "  customer       state gender             education  customer_lifetime_value  \\\n",
       "0  RB50392  Washington    NaN                Master                   793690   \n",
       "1  QZ44356     Arizona      F              Bachelor                   697953   \n",
       "2  AI49188      Nevada      F              Bachelor                  1288743   \n",
       "3  WW63253  California      M              Bachelor                   764586   \n",
       "4  GA49547  Washington      M  High School or Below                   536307   \n",
       "\n",
       "   income  monthly_premium_auto  number_of_open_complaints     policy_type  \\\n",
       "0       0                  1000                          0   Personal Auto   \n",
       "1       0                    94                          0   Personal Auto   \n",
       "2   48767                   108                          0   Personal Auto   \n",
       "3       0                   106                          0  Corporate Auto   \n",
       "4   36357                    68                          0   Personal Auto   \n",
       "\n",
       "   vehicle_class  total_claim_amount  \n",
       "0  Four-Door Car                   2  \n",
       "1  Four-Door Car                1131  \n",
       "2   Two-Door Car                 566  \n",
       "3            SUV                 529  \n",
       "4  Four-Door Car                  17  "
      ]
     },
     "execution_count": 127,
     "metadata": {},
     "output_type": "execute_result"
    }
   ],
   "source": [
    "Concat_data.head() "
   ]
  },
  {
   "cell_type": "markdown",
   "id": "31b8a9e7-7db9-4604-991b-ef6771603e57",
   "metadata": {
    "id": "31b8a9e7-7db9-4604-991b-ef6771603e57"
   },
   "source": [
    "# Challenge 2: Structuring Data"
   ]
  },
  {
   "cell_type": "markdown",
   "id": "a877fd6d-7a0c-46d2-9657-f25036e4ca4b",
   "metadata": {
    "id": "a877fd6d-7a0c-46d2-9657-f25036e4ca4b"
   },
   "source": [
    "In this challenge, we will continue to work with customer data from an insurance company, but we will use a dataset with more columns, called marketing_customer_analysis.csv, which can be found at the following link:\n",
    "\n",
    "https://raw.githubusercontent.com/data-bootcamp-v4/data/main/marketing_customer_analysis_clean.csv\n",
    "\n",
    "This dataset contains information such as customer demographics, policy details, vehicle information, and the customer's response to the last marketing campaign. Our goal is to explore and analyze this data by performing data cleaning, formatting, and structuring."
   ]
  },
  {
   "cell_type": "code",
   "execution_count": 130,
   "id": "aa10d9b0-1c27-4d3f-a8e4-db6ab73bfd26",
   "metadata": {
    "id": "aa10d9b0-1c27-4d3f-a8e4-db6ab73bfd26"
   },
   "outputs": [],
   "source": [
    "# Your code goes here\n",
    "\n",
    "marketing_customer_analysis = r\"https://raw.githubusercontent.com/data-bootcamp-v4/data/main/marketing_customer_analysis_clean.csv\"\n",
    "df_marketing_customer = pd.read_csv(marketing_customer_analysis)"
   ]
  },
  {
   "cell_type": "code",
   "execution_count": 157,
   "id": "449ef6ed-ba6a-49af-8ead-5436cf9d8c5f",
   "metadata": {},
   "outputs": [
    {
     "data": {
      "text/html": [
       "<div>\n",
       "<style scoped>\n",
       "    .dataframe tbody tr th:only-of-type {\n",
       "        vertical-align: middle;\n",
       "    }\n",
       "\n",
       "    .dataframe tbody tr th {\n",
       "        vertical-align: top;\n",
       "    }\n",
       "\n",
       "    .dataframe thead th {\n",
       "        text-align: right;\n",
       "    }\n",
       "</style>\n",
       "<table border=\"1\" class=\"dataframe\">\n",
       "  <thead>\n",
       "    <tr style=\"text-align: right;\">\n",
       "      <th></th>\n",
       "      <th>customer</th>\n",
       "      <th>state</th>\n",
       "      <th>customer_lifetime_value</th>\n",
       "      <th>response</th>\n",
       "      <th>coverage</th>\n",
       "      <th>education</th>\n",
       "      <th>effective_to_date</th>\n",
       "      <th>employmentstatus</th>\n",
       "      <th>gender</th>\n",
       "      <th>income</th>\n",
       "      <th>...</th>\n",
       "      <th>number_of_policies</th>\n",
       "      <th>policy_type</th>\n",
       "      <th>policy</th>\n",
       "      <th>renew_offer_type</th>\n",
       "      <th>sales_channel</th>\n",
       "      <th>total_claim_amount</th>\n",
       "      <th>vehicle_class</th>\n",
       "      <th>vehicle_size</th>\n",
       "      <th>vehicle_type</th>\n",
       "      <th>month</th>\n",
       "    </tr>\n",
       "  </thead>\n",
       "  <tbody>\n",
       "    <tr>\n",
       "      <th>0</th>\n",
       "      <td>DK49336</td>\n",
       "      <td>Arizona</td>\n",
       "      <td>4809.216960</td>\n",
       "      <td>No</td>\n",
       "      <td>Basic</td>\n",
       "      <td>College</td>\n",
       "      <td>2011-02-18</td>\n",
       "      <td>Employed</td>\n",
       "      <td>M</td>\n",
       "      <td>48029</td>\n",
       "      <td>...</td>\n",
       "      <td>9</td>\n",
       "      <td>Corporate Auto</td>\n",
       "      <td>Corporate L3</td>\n",
       "      <td>Offer3</td>\n",
       "      <td>Agent</td>\n",
       "      <td>292.800000</td>\n",
       "      <td>Four-Door Car</td>\n",
       "      <td>Medsize</td>\n",
       "      <td>A</td>\n",
       "      <td>2</td>\n",
       "    </tr>\n",
       "    <tr>\n",
       "      <th>1</th>\n",
       "      <td>KX64629</td>\n",
       "      <td>California</td>\n",
       "      <td>2228.525238</td>\n",
       "      <td>No</td>\n",
       "      <td>Basic</td>\n",
       "      <td>College</td>\n",
       "      <td>2011-01-18</td>\n",
       "      <td>Unemployed</td>\n",
       "      <td>F</td>\n",
       "      <td>0</td>\n",
       "      <td>...</td>\n",
       "      <td>1</td>\n",
       "      <td>Personal Auto</td>\n",
       "      <td>Personal L3</td>\n",
       "      <td>Offer4</td>\n",
       "      <td>Call Center</td>\n",
       "      <td>744.924331</td>\n",
       "      <td>Four-Door Car</td>\n",
       "      <td>Medsize</td>\n",
       "      <td>A</td>\n",
       "      <td>1</td>\n",
       "    </tr>\n",
       "    <tr>\n",
       "      <th>2</th>\n",
       "      <td>LZ68649</td>\n",
       "      <td>Washington</td>\n",
       "      <td>14947.917300</td>\n",
       "      <td>No</td>\n",
       "      <td>Basic</td>\n",
       "      <td>Bachelor</td>\n",
       "      <td>2011-02-10</td>\n",
       "      <td>Employed</td>\n",
       "      <td>M</td>\n",
       "      <td>22139</td>\n",
       "      <td>...</td>\n",
       "      <td>2</td>\n",
       "      <td>Personal Auto</td>\n",
       "      <td>Personal L3</td>\n",
       "      <td>Offer3</td>\n",
       "      <td>Call Center</td>\n",
       "      <td>480.000000</td>\n",
       "      <td>SUV</td>\n",
       "      <td>Medsize</td>\n",
       "      <td>A</td>\n",
       "      <td>2</td>\n",
       "    </tr>\n",
       "    <tr>\n",
       "      <th>3</th>\n",
       "      <td>XL78013</td>\n",
       "      <td>Oregon</td>\n",
       "      <td>22332.439460</td>\n",
       "      <td>Yes</td>\n",
       "      <td>Extended</td>\n",
       "      <td>College</td>\n",
       "      <td>2011-01-11</td>\n",
       "      <td>Employed</td>\n",
       "      <td>M</td>\n",
       "      <td>49078</td>\n",
       "      <td>...</td>\n",
       "      <td>2</td>\n",
       "      <td>Corporate Auto</td>\n",
       "      <td>Corporate L3</td>\n",
       "      <td>Offer2</td>\n",
       "      <td>Branch</td>\n",
       "      <td>484.013411</td>\n",
       "      <td>Four-Door Car</td>\n",
       "      <td>Medsize</td>\n",
       "      <td>A</td>\n",
       "      <td>1</td>\n",
       "    </tr>\n",
       "    <tr>\n",
       "      <th>4</th>\n",
       "      <td>QA50777</td>\n",
       "      <td>Oregon</td>\n",
       "      <td>9025.067525</td>\n",
       "      <td>No</td>\n",
       "      <td>Premium</td>\n",
       "      <td>Bachelor</td>\n",
       "      <td>2011-01-17</td>\n",
       "      <td>Medical Leave</td>\n",
       "      <td>F</td>\n",
       "      <td>23675</td>\n",
       "      <td>...</td>\n",
       "      <td>7</td>\n",
       "      <td>Personal Auto</td>\n",
       "      <td>Personal L2</td>\n",
       "      <td>Offer1</td>\n",
       "      <td>Branch</td>\n",
       "      <td>707.925645</td>\n",
       "      <td>Four-Door Car</td>\n",
       "      <td>Medsize</td>\n",
       "      <td>A</td>\n",
       "      <td>1</td>\n",
       "    </tr>\n",
       "  </tbody>\n",
       "</table>\n",
       "<p>5 rows × 26 columns</p>\n",
       "</div>"
      ],
      "text/plain": [
       "  customer       state  customer_lifetime_value response  coverage education  \\\n",
       "0  DK49336     Arizona              4809.216960       No     Basic   College   \n",
       "1  KX64629  California              2228.525238       No     Basic   College   \n",
       "2  LZ68649  Washington             14947.917300       No     Basic  Bachelor   \n",
       "3  XL78013      Oregon             22332.439460      Yes  Extended   College   \n",
       "4  QA50777      Oregon              9025.067525       No   Premium  Bachelor   \n",
       "\n",
       "  effective_to_date employmentstatus gender  income  ... number_of_policies  \\\n",
       "0        2011-02-18         Employed      M   48029  ...                  9   \n",
       "1        2011-01-18       Unemployed      F       0  ...                  1   \n",
       "2        2011-02-10         Employed      M   22139  ...                  2   \n",
       "3        2011-01-11         Employed      M   49078  ...                  2   \n",
       "4        2011-01-17    Medical Leave      F   23675  ...                  7   \n",
       "\n",
       "      policy_type        policy  renew_offer_type  sales_channel  \\\n",
       "0  Corporate Auto  Corporate L3            Offer3          Agent   \n",
       "1   Personal Auto   Personal L3            Offer4    Call Center   \n",
       "2   Personal Auto   Personal L3            Offer3    Call Center   \n",
       "3  Corporate Auto  Corporate L3            Offer2         Branch   \n",
       "4   Personal Auto   Personal L2            Offer1         Branch   \n",
       "\n",
       "   total_claim_amount  vehicle_class vehicle_size vehicle_type month  \n",
       "0          292.800000  Four-Door Car      Medsize            A     2  \n",
       "1          744.924331  Four-Door Car      Medsize            A     1  \n",
       "2          480.000000            SUV      Medsize            A     2  \n",
       "3          484.013411  Four-Door Car      Medsize            A     1  \n",
       "4          707.925645  Four-Door Car      Medsize            A     1  \n",
       "\n",
       "[5 rows x 26 columns]"
      ]
     },
     "execution_count": 157,
     "metadata": {},
     "output_type": "execute_result"
    }
   ],
   "source": [
    "df_marketing_customer.head()"
   ]
  },
  {
   "cell_type": "code",
   "execution_count": 138,
   "id": "12666729-2eb3-49b8-8d2a-50eab2f876f6",
   "metadata": {},
   "outputs": [],
   "source": [
    "df_marketing_customer.drop(columns =\"unnamed:_0\" ,inplace = True)"
   ]
  },
  {
   "cell_type": "markdown",
   "id": "df35fd0d-513e-4e77-867e-429da10a9cc7",
   "metadata": {
    "id": "df35fd0d-513e-4e77-867e-429da10a9cc7"
   },
   "source": [
    "1. You work at the marketing department and you want to know which sales channel brought the most sales in terms of total revenue. Using pivot, create a summary table showing the total revenue for each sales channel (branch, call center, web, and mail).\n",
    "Round the total revenue to 2 decimal points.  Analyze the resulting table to draw insights."
   ]
  },
  {
   "cell_type": "code",
   "execution_count": 150,
   "id": "321ab5ff-620a-4dd7-80c1-5fa4b27e10bb",
   "metadata": {},
   "outputs": [
    {
     "data": {
      "text/plain": [
       "array(['Agent', 'Call Center', 'Branch', 'Web'], dtype=object)"
      ]
     },
     "execution_count": 150,
     "metadata": {},
     "output_type": "execute_result"
    }
   ],
   "source": [
    "df_marketing_customer[\"sales_channel\"].unique()"
   ]
  },
  {
   "cell_type": "code",
   "execution_count": 164,
   "id": "b0b047d1-bc14-4114-9924-72ce0a7b48eb",
   "metadata": {},
   "outputs": [
    {
     "data": {
      "text/plain": [
       "Index(['customer', 'state', 'customer_lifetime_value', 'response', 'coverage',\n",
       "       'education', 'effective_to_date', 'employmentstatus', 'gender',\n",
       "       'income', 'location_code', 'marital_status', 'monthly_premium_auto',\n",
       "       'months_since_last_claim', 'months_since_policy_inception',\n",
       "       'number_of_open_complaints', 'number_of_policies', 'policy_type',\n",
       "       'policy', 'renew_offer_type', 'sales_channel', 'total_claim_amount',\n",
       "       'vehicle_class', 'vehicle_size', 'vehicle_type', 'month'],\n",
       "      dtype='object')"
      ]
     },
     "execution_count": 164,
     "metadata": {},
     "output_type": "execute_result"
    }
   ],
   "source": [
    "df_marketing_customer.columns"
   ]
  },
  {
   "cell_type": "code",
   "execution_count": 209,
   "id": "6b9e8ac5-adcf-4b9a-a409-d18a9e53984e",
   "metadata": {},
   "outputs": [
    {
     "name": "stdout",
     "output_type": "stream",
     "text": [
      "               total_claim_amount\n",
      "sales_channel                    \n",
      "Agent                  1810226.82\n",
      "Branch                 1301204.00\n",
      "Call Center             926600.82\n",
      "Web                     706600.04\n"
     ]
    }
   ],
   "source": [
    "sales_pivot = df_marketing_customer.pivot_table(index='sales_channel', values='total_claim_amount', aggfunc='sum').round(2)\n",
    "print(sales_pivot)"
   ]
  },
  {
   "cell_type": "markdown",
   "id": "640993b2-a291-436c-a34d-a551144f8196",
   "metadata": {
    "id": "640993b2-a291-436c-a34d-a551144f8196"
   },
   "source": [
    "2. Create a pivot table that shows the average customer lifetime value per gender and education level. Analyze the resulting table to draw insights."
   ]
  },
  {
   "cell_type": "code",
   "execution_count": 185,
   "id": "34b2cde4-ae37-432c-8905-eb87598a15ce",
   "metadata": {},
   "outputs": [],
   "source": [
    "df_multindex  = df_marketing_customer.set_index(['gender', 'education'])"
   ]
  },
  {
   "cell_type": "code",
   "execution_count": 200,
   "id": "58af2437-4c0c-4a67-8d8e-2f9f1c388a04",
   "metadata": {},
   "outputs": [],
   "source": [
    "stacked_data = df_multindex"
   ]
  },
  {
   "cell_type": "code",
   "execution_count": 205,
   "id": "91b225c5-82c5-425f-8daf-3f56f51ff875",
   "metadata": {},
   "outputs": [
    {
     "data": {
      "text/plain": [
       "gender  education           \n",
       "F       Bachelor                7874.269478\n",
       "        College                 7748.823325\n",
       "        Doctor                  7328.508916\n",
       "        High School or Below    8675.220201\n",
       "        Master                  8157.053154\n",
       "M       Bachelor                7703.601675\n",
       "        College                 8052.459288\n",
       "        Doctor                  7415.333638\n",
       "        High School or Below    8149.687783\n",
       "        Master                  8168.832659\n",
       "Name: customer_lifetime_value, dtype: float64"
      ]
     },
     "execution_count": 205,
     "metadata": {},
     "output_type": "execute_result"
    }
   ],
   "source": [
    "stacked_data[\"customer_lifetime_value\"].groupby(['gender', 'education']).mean()"
   ]
  },
  {
   "cell_type": "markdown",
   "id": "32c7f2e5-3d90-43e5-be33-9781b6069198",
   "metadata": {
    "id": "32c7f2e5-3d90-43e5-be33-9781b6069198"
   },
   "source": [
    "## Bonus\n",
    "\n",
    "You work at the customer service department and you want to know which months had the highest number of complaints by policy type category. Create a summary table showing the number of complaints by policy type and month.\n",
    "Show it in a long format table."
   ]
  },
  {
   "cell_type": "markdown",
   "id": "e3d09a8f-953c-448a-a5f8-2e5a8cca7291",
   "metadata": {
    "id": "e3d09a8f-953c-448a-a5f8-2e5a8cca7291"
   },
   "source": [
    "*In data analysis, a long format table is a way of structuring data in which each observation or measurement is stored in a separate row of the table. The key characteristic of a long format table is that each column represents a single variable, and each row represents a single observation of that variable.*\n",
    "\n",
    "*More information about long and wide format tables here: https://www.statology.org/long-vs-wide-data/*"
   ]
  },
  {
   "cell_type": "code",
   "execution_count": null,
   "id": "3a069e0b-b400-470e-904d-d17582191be4",
   "metadata": {
    "id": "3a069e0b-b400-470e-904d-d17582191be4"
   },
   "outputs": [],
   "source": [
    "# Your code goes here"
   ]
  }
 ],
 "metadata": {
  "colab": {
   "provenance": []
  },
  "kernelspec": {
   "display_name": "Python [conda env:base] *",
   "language": "python",
   "name": "conda-base-py"
  },
  "language_info": {
   "codemirror_mode": {
    "name": "ipython",
    "version": 3
   },
   "file_extension": ".py",
   "mimetype": "text/x-python",
   "name": "python",
   "nbconvert_exporter": "python",
   "pygments_lexer": "ipython3",
   "version": "3.11.5"
  }
 },
 "nbformat": 4,
 "nbformat_minor": 5
}
